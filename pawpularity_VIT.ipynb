{
 "cells": [
  {
   "cell_type": "code",
   "execution_count": 28,
   "metadata": {
    "execution": {
     "iopub.execute_input": "2022-12-01T01:36:00.809285Z",
     "iopub.status.busy": "2022-12-01T01:36:00.808215Z",
     "iopub.status.idle": "2022-12-01T01:36:00.815345Z",
     "shell.execute_reply": "2022-12-01T01:36:00.814163Z",
     "shell.execute_reply.started": "2022-12-01T01:36:00.809239Z"
    }
   },
   "outputs": [],
   "source": [
    "import os\n",
    "import cv2\n",
    "import matplotlib.pyplot as plt\n",
    "import numpy as np\n",
    "import pandas as pd\n",
    "from skimage.transform import *\n",
    "from skimage.color import *"
   ]
  },
  {
   "cell_type": "code",
   "execution_count": 29,
   "metadata": {
    "_cell_guid": "b1076dfc-b9ad-4769-8c92-a6c4dae69d19",
    "_uuid": "8f2839f25d086af736a60e9eeb907d3b93b6e0e5",
    "execution": {
     "iopub.execute_input": "2022-12-01T01:36:00.838568Z",
     "iopub.status.busy": "2022-12-01T01:36:00.838150Z",
     "iopub.status.idle": "2022-12-01T01:36:47.262372Z",
     "shell.execute_reply": "2022-12-01T01:36:47.261085Z",
     "shell.execute_reply.started": "2022-12-01T01:36:00.838536Z"
    }
   },
   "outputs": [],
   "source": [
    "FILE_PATH = '/kaggle/input/petfinder-pawpularity-score/train'\n",
    "n = 120\n",
    "\n",
    "count = 0\n",
    "mappings = dict()\n",
    "images = []\n",
    "# parse through all files in the directory\n",
    "for dirpath, dirs, files in os.walk(FILE_PATH): \n",
    "    for filename in files:\n",
    "        if count == n:\n",
    "            break\n",
    "        img_path = dirpath+'/'+filename\n",
    "        # read images\n",
    "        img = cv2.imread(img_path)\n",
    "        img = resize(img, (32, 32))\n",
    "        mappings[filename.split('.')[0]] = img\n",
    "        images.append(img)\n",
    "        count += 1\n",
    "  "
   ]
  },
  {
   "cell_type": "code",
   "execution_count": 30,
   "metadata": {
    "execution": {
     "iopub.execute_input": "2022-12-01T01:36:47.264972Z",
     "iopub.status.busy": "2022-12-01T01:36:47.264617Z",
     "iopub.status.idle": "2022-12-01T01:36:47.300057Z",
     "shell.execute_reply": "2022-12-01T01:36:47.299021Z",
     "shell.execute_reply.started": "2022-12-01T01:36:47.264942Z"
    }
   },
   "outputs": [],
   "source": [
    "images_df = pd.DataFrame(mappings.items(), columns = ['Id','image'])\n",
    "train_table = pd.read_csv('/kaggle/input/petfinder-pawpularity-score/train.csv')\n",
    "paw_merge = images_df.merge(train_table, on = 'Id')\n",
    "image_score_df = paw_merge[['image', 'Pawpularity']]\n",
    "train_df = image_score_df.iloc[0:100, :]\n",
    "#valid_df = image_score_df.iloc[50:75, :]\n",
    "test_df = image_score_df.iloc[100:120, :]\n",
    "x_train = np.array(np.array(images[0:100]) * 255, dtype = np.uint8)\n",
    "y_train = train_df['Pawpularity'].to_numpy()\n",
    "#x_val = np.array(np.array(images[50:75]) * 255, dtype = np.uint8)\n",
    "#y_val = valid_df['Pawpularity'].to_numpy()\n",
    "x_test = np.array(np.array(images[100:120]) * 255, dtype = np.uint8)\n",
    "y_test = test_df['Pawpularity'].to_numpy()\n"
   ]
  },
  {
   "cell_type": "code",
   "execution_count": 31,
   "metadata": {
    "execution": {
     "iopub.execute_input": "2022-12-01T01:36:47.302027Z",
     "iopub.status.busy": "2022-12-01T01:36:47.301682Z",
     "iopub.status.idle": "2022-12-01T01:36:47.309810Z",
     "shell.execute_reply": "2022-12-01T01:36:47.308208Z",
     "shell.execute_reply.started": "2022-12-01T01:36:47.301996Z"
    }
   },
   "outputs": [
    {
     "name": "stdout",
     "output_type": "stream",
     "text": [
      "(100, 32, 32, 3)\n",
      "(100,)\n",
      "(20, 32, 32, 3)\n",
      "(20,)\n"
     ]
    }
   ],
   "source": [
    "print(x_train.shape)\n",
    "print(y_train.shape)\n",
    "#print(x_val.shape)\n",
    "#print(y_val.shape)\n",
    "print(x_test.shape)\n",
    "print(y_test.shape)"
   ]
  },
  {
   "cell_type": "code",
   "execution_count": 32,
   "metadata": {
    "execution": {
     "iopub.execute_input": "2022-12-01T01:36:47.313148Z",
     "iopub.status.busy": "2022-12-01T01:36:47.312753Z",
     "iopub.status.idle": "2022-12-01T01:36:58.523906Z",
     "shell.execute_reply": "2022-12-01T01:36:58.522245Z",
     "shell.execute_reply.started": "2022-12-01T01:36:47.313097Z"
    }
   },
   "outputs": [
    {
     "name": "stdout",
     "output_type": "stream",
     "text": [
      "Requirement already satisfied: tensorflow-addons in /opt/conda/lib/python3.7/site-packages (0.18.0)\n",
      "Requirement already satisfied: typeguard>=2.7 in /opt/conda/lib/python3.7/site-packages (from tensorflow-addons) (2.13.3)\n",
      "Requirement already satisfied: packaging in /opt/conda/lib/python3.7/site-packages (from tensorflow-addons) (21.3)\n",
      "Requirement already satisfied: pyparsing!=3.0.5,>=2.0.2 in /opt/conda/lib/python3.7/site-packages (from packaging->tensorflow-addons) (3.0.9)\n",
      "\u001b[33mWARNING: Running pip as the 'root' user can result in broken permissions and conflicting behaviour with the system package manager. It is recommended to use a virtual environment instead: https://pip.pypa.io/warnings/venv\u001b[0m\u001b[33m\n",
      "\u001b[0mNote: you may need to restart the kernel to use updated packages.\n"
     ]
    }
   ],
   "source": [
    "#pip install -U tensorflow-addons\n"
   ]
  },
  {
   "cell_type": "code",
   "execution_count": 33,
   "metadata": {
    "execution": {
     "iopub.execute_input": "2022-12-01T01:36:58.526841Z",
     "iopub.status.busy": "2022-12-01T01:36:58.526435Z",
     "iopub.status.idle": "2022-12-01T01:36:58.534066Z",
     "shell.execute_reply": "2022-12-01T01:36:58.532830Z",
     "shell.execute_reply.started": "2022-12-01T01:36:58.526801Z"
    }
   },
   "outputs": [],
   "source": [
    "import numpy as np\n",
    "import tensorflow as tf\n",
    "from tensorflow import keras\n",
    "from tensorflow.keras import layers\n",
    "import tensorflow_addons as tfa\n"
   ]
  },
  {
   "cell_type": "code",
   "execution_count": 34,
   "metadata": {
    "execution": {
     "iopub.execute_input": "2022-12-01T01:36:58.536262Z",
     "iopub.status.busy": "2022-12-01T01:36:58.535746Z",
     "iopub.status.idle": "2022-12-01T01:36:58.546492Z",
     "shell.execute_reply": "2022-12-01T01:36:58.545484Z",
     "shell.execute_reply.started": "2022-12-01T01:36:58.536091Z"
    }
   },
   "outputs": [],
   "source": [
    "num_classes = 1\n",
    "input_shape = (32, 32, 3)"
   ]
  },
  {
   "cell_type": "code",
   "execution_count": 35,
   "metadata": {
    "execution": {
     "iopub.execute_input": "2022-12-01T01:36:58.548189Z",
     "iopub.status.busy": "2022-12-01T01:36:58.547852Z",
     "iopub.status.idle": "2022-12-01T01:36:58.560052Z",
     "shell.execute_reply": "2022-12-01T01:36:58.558460Z",
     "shell.execute_reply.started": "2022-12-01T01:36:58.548150Z"
    }
   },
   "outputs": [],
   "source": [
    "learning_rate = 0.001\n",
    "weight_decay = 0.0001\n",
    "batch_size = 256\n",
    "num_epochs = 100\n",
    "image_size = 72  # We'll resize input images to this size\n",
    "patch_size = 6  # Size of the patches to be extract from the input images\n",
    "num_patches = (image_size // patch_size) ** 2\n",
    "projection_dim = 1\n",
    "num_heads = 4\n",
    "transformer_units = [\n",
    "    projection_dim * 2,\n",
    "    projection_dim,\n",
    "]  # Size of the transformer layers\n",
    "transformer_layers = 8\n",
    "mlp_head_units = [2048, 1024] "
   ]
  },
  {
   "cell_type": "code",
   "execution_count": 36,
   "metadata": {
    "execution": {
     "iopub.execute_input": "2022-12-01T01:36:58.562055Z",
     "iopub.status.busy": "2022-12-01T01:36:58.561688Z",
     "iopub.status.idle": "2022-12-01T01:36:58.846744Z",
     "shell.execute_reply": "2022-12-01T01:36:58.845713Z",
     "shell.execute_reply.started": "2022-12-01T01:36:58.562021Z"
    }
   },
   "outputs": [],
   "source": [
    "data_augmentation = keras.Sequential(\n",
    "    [\n",
    "        layers.Normalization(),\n",
    "        layers.Resizing(image_size, image_size),\n",
    "        layers.RandomFlip(\"horizontal\"),\n",
    "        layers.RandomRotation(factor=0.02),\n",
    "        layers.RandomZoom(\n",
    "            height_factor=0.2, width_factor=0.2\n",
    "        ),\n",
    "    ],\n",
    "    name=\"data_augmentation\",\n",
    ")\n",
    "# Compute the mean and the variance of the training data for normalization.\n",
    "data_augmentation.layers[0].adapt(x_train)\n"
   ]
  },
  {
   "cell_type": "code",
   "execution_count": 37,
   "metadata": {
    "execution": {
     "iopub.execute_input": "2022-12-01T01:36:58.849440Z",
     "iopub.status.busy": "2022-12-01T01:36:58.848311Z",
     "iopub.status.idle": "2022-12-01T01:36:58.856592Z",
     "shell.execute_reply": "2022-12-01T01:36:58.855191Z",
     "shell.execute_reply.started": "2022-12-01T01:36:58.849392Z"
    }
   },
   "outputs": [],
   "source": [
    "def mlp(x, hidden_units, dropout_rate):\n",
    "    for units in hidden_units:\n",
    "        x = layers.Dense(units, activation=tf.nn.gelu)(x)\n",
    "        x = layers.Dropout(dropout_rate)(x)\n",
    "    return x\n"
   ]
  },
  {
   "cell_type": "code",
   "execution_count": 38,
   "metadata": {
    "execution": {
     "iopub.execute_input": "2022-12-01T01:36:58.861339Z",
     "iopub.status.busy": "2022-12-01T01:36:58.860948Z",
     "iopub.status.idle": "2022-12-01T01:36:58.871651Z",
     "shell.execute_reply": "2022-12-01T01:36:58.870017Z",
     "shell.execute_reply.started": "2022-12-01T01:36:58.861305Z"
    }
   },
   "outputs": [],
   "source": [
    "class Patches(layers.Layer):\n",
    "    def __init__(self, patch_size):\n",
    "        super(Patches, self).__init__()\n",
    "        self.patch_size = patch_size\n",
    "\n",
    "    def call(self, images):\n",
    "        batch_size = tf.shape(images)[0]\n",
    "        patches = tf.image.extract_patches(\n",
    "            images=images,\n",
    "            sizes=[1, self.patch_size, self.patch_size, 1],\n",
    "            strides=[1, self.patch_size, self.patch_size, 1],\n",
    "            rates=[1, 1, 1, 1],\n",
    "            padding=\"VALID\",\n",
    "        )\n",
    "        patch_dims = patches.shape[-1]\n",
    "        patches = tf.reshape(patches, [batch_size, -1, patch_dims])\n",
    "        return patches\n"
   ]
  },
  {
   "cell_type": "code",
   "execution_count": 39,
   "metadata": {
    "execution": {
     "iopub.execute_input": "2022-12-01T01:36:58.873622Z",
     "iopub.status.busy": "2022-12-01T01:36:58.873289Z",
     "iopub.status.idle": "2022-12-01T01:37:05.436374Z",
     "shell.execute_reply": "2022-12-01T01:37:05.435022Z",
     "shell.execute_reply.started": "2022-12-01T01:36:58.873593Z"
    }
   },
   "outputs": [
    {
     "name": "stdout",
     "output_type": "stream",
     "text": [
      "Image size: 72 X 72\n",
      "Patch size: 6 X 6\n",
      "Patches per image: 144\n",
      "Elements per patch: 108\n"
     ]
    },
    {
     "data": {
      "image/png": "[encoded data removed]",
      "text/plain": [
       "<Figure size 288x288 with 1 Axes>"
      ]
     },
     "metadata": {
      "needs_background": "light"
     },
     "output_type": "display_data"
    },
    {
     "data": {
      "image/png": "[encoded data removed]",
      "text/plain": [
       "<Figure size 288x288 with 144 Axes>"
      ]
     },
     "metadata": {
      "needs_background": "light"
     },
     "output_type": "display_data"
    }
   ],
   "source": [
    "import matplotlib.pyplot as plt\n",
    "\n",
    "plt.figure(figsize=(4, 4))\n",
    "image = x_train[np.random.choice(range(x_train.shape[0]))]\n",
    "plt.imshow(image.astype(\"uint8\"))\n",
    "plt.axis(\"off\")\n",
    "\n",
    "resized_image = tf.image.resize(\n",
    "    tf.convert_to_tensor([image]), size=(image_size, image_size)\n",
    ")\n",
    "patches = Patches(patch_size)(resized_image)\n",
    "print(f\"Image size: {image_size} X {image_size}\")\n",
    "print(f\"Patch size: {patch_size} X {patch_size}\")\n",
    "print(f\"Patches per image: {patches.shape[1]}\")\n",
    "print(f\"Elements per patch: {patches.shape[-1]}\")\n",
    "\n",
    "n = int(np.sqrt(patches.shape[1]))\n",
    "plt.figure(figsize=(4, 4))\n",
    "for i, patch in enumerate(patches[0]):\n",
    "    ax = plt.subplot(n, n, i + 1)\n",
    "    patch_img = tf.reshape(patch, (patch_size, patch_size, 3))\n",
    "    plt.imshow(patch_img.numpy().astype(\"uint8\"))\n",
    "    plt.axis(\"off\")\n"
   ]
  },
  {
   "cell_type": "code",
   "execution_count": 40,
   "metadata": {
    "execution": {
     "iopub.execute_input": "2022-12-01T01:37:05.438504Z",
     "iopub.status.busy": "2022-12-01T01:37:05.438036Z",
     "iopub.status.idle": "2022-12-01T01:37:05.445884Z",
     "shell.execute_reply": "2022-12-01T01:37:05.444978Z",
     "shell.execute_reply.started": "2022-12-01T01:37:05.438461Z"
    }
   },
   "outputs": [],
   "source": [
    "class PatchEncoder(layers.Layer):\n",
    "    def __init__(self, num_patches, projection_dim):\n",
    "        super(PatchEncoder, self).__init__()\n",
    "        self.num_patches = num_patches\n",
    "        self.projection = layers.Dense(units=projection_dim)\n",
    "        self.position_embedding = layers.Embedding(\n",
    "            input_dim=num_patches, output_dim=projection_dim\n",
    "        )\n",
    "\n",
    "    def call(self, patch):\n",
    "        positions = tf.range(start=0, limit=self.num_patches, delta=1)\n",
    "        encoded = self.projection(patch) + self.position_embedding(positions)\n",
    "        return encoded\n"
   ]
  },
  {
   "cell_type": "code",
   "execution_count": 41,
   "metadata": {
    "execution": {
     "iopub.execute_input": "2022-12-01T01:37:05.448548Z",
     "iopub.status.busy": "2022-12-01T01:37:05.447259Z",
     "iopub.status.idle": "2022-12-01T01:37:05.460518Z",
     "shell.execute_reply": "2022-12-01T01:37:05.459393Z",
     "shell.execute_reply.started": "2022-12-01T01:37:05.448508Z"
    }
   },
   "outputs": [],
   "source": [
    "def create_vit_classifier():\n",
    "    inputs = layers.Input(shape=input_shape)\n",
    "    # Augment data.\n",
    "    augmented = data_augmentation(inputs)\n",
    "    # Create patches.\n",
    "    patches = Patches(patch_size)(augmented)\n",
    "    # Encode patches.\n",
    "    encoded_patches = PatchEncoder(num_patches, projection_dim)(patches)\n",
    "\n",
    "    # Create multiple layers of the Transformer block.\n",
    "    for _ in range(transformer_layers):\n",
    "        # Layer normalization 1.\n",
    "        x1 = layers.LayerNormalization(epsilon=1e-6)(encoded_patches)\n",
    "        # Create a multi-head attention layer.\n",
    "        attention_output = layers.MultiHeadAttention(\n",
    "            num_heads=num_heads, key_dim=projection_dim, dropout=0.1\n",
    "        )(x1, x1)\n",
    "        # Skip connection 1.\n",
    "        \n",
    "        x2 = layers.Add()([attention_output, encoded_patches])\n",
    "        # Layer normalization 2.\n",
    "        x3 = layers.LayerNormalization(epsilon=1e-6)(x2)\n",
    "        # MLP.\n",
    "        x3 = mlp(x3, hidden_units=transformer_units, dropout_rate=0.1)\n",
    "        # Skip connection 2.\n",
    "        encoded_patches = layers.Add()([x3, x2])\n",
    "\n",
    "    attention_last_layer = attention_output\n",
    "    print(attention_last_layer.shape)\n",
    "    \n",
    "    # Create a [batch_size, projection_dim] tensor.\n",
    "    representation = layers.LayerNormalization(epsilon=1e-6)(encoded_patches)\n",
    "    representation = layers.Flatten()(representation)\n",
    "    representation = layers.Dropout(0.5)(representation)\n",
    "    # Add MLP.\n",
    "    features = mlp(representation, hidden_units=mlp_head_units, dropout_rate=0.5)\n",
    "    # Classify outputs.\n",
    "    logits = layers.Dense(num_classes)(features)\n",
    "    # Create the Keras model.\n",
    "    model = keras.Model(inputs=inputs, outputs=logits)\n",
    "    return model\n"
   ]
  },
  {
   "cell_type": "code",
   "execution_count": 43,
   "metadata": {
    "execution": {
     "iopub.execute_input": "2022-12-01T01:37:05.482566Z",
     "iopub.status.busy": "2022-12-01T01:37:05.482227Z",
     "iopub.status.idle": "2022-12-01T01:39:44.984247Z",
     "shell.execute_reply": "2022-12-01T01:39:44.983361Z",
     "shell.execute_reply.started": "2022-12-01T01:37:05.482536Z"
    }
   },
   "outputs": [
    {
     "name": "stdout",
     "output_type": "stream",
     "text": [
      "(None, 144, 1)\n",
      "Epoch 1/100\n",
      "1/1 [==============================] - 18s 18s/step - loss: 1728.5555 - root_mean_squared_error: 41.5759 - val_loss: 1981.1941 - val_root_mean_squared_error: 44.5106\n",
      "Epoch 2/100\n",
      "1/1 [==============================] - 1s 940ms/step - loss: 1725.9025 - root_mean_squared_error: 41.5440 - val_loss: 1975.9525 - val_root_mean_squared_error: 44.4517\n",
      "Epoch 3/100\n",
      "1/1 [==============================] - 1s 942ms/step - loss: 1720.9771 - root_mean_squared_error: 41.4847 - val_loss: 1967.4000 - val_root_mean_squared_error: 44.3554\n",
      "Epoch 4/100\n",
      "1/1 [==============================] - 1s 926ms/step - loss: 1712.9569 - root_mean_squared_error: 41.3879 - val_loss: 1954.5149 - val_root_mean_squared_error: 44.2099\n",
      "Epoch 5/100\n",
      "1/1 [==============================] - 1s 927ms/step - loss: 1700.7896 - root_mean_squared_error: 41.2406 - val_loss: 1936.1340 - val_root_mean_squared_error: 44.0015\n",
      "Epoch 6/100\n",
      "1/1 [==============================] - 1s 913ms/step - loss: 1683.8561 - root_mean_squared_error: 41.0348 - val_loss: 1910.8623 - val_root_mean_squared_error: 43.7134\n",
      "Epoch 7/100\n",
      "1/1 [==============================] - 1s 990ms/step - loss: 1660.0052 - root_mean_squared_error: 40.7432 - val_loss: 1877.4965 - val_root_mean_squared_error: 43.3301\n",
      "Epoch 8/100\n",
      "1/1 [==============================] - 1s 926ms/step - loss: 1628.9823 - root_mean_squared_error: 40.3607 - val_loss: 1833.9961 - val_root_mean_squared_error: 42.8252\n",
      "Epoch 9/100\n",
      "1/1 [==============================] - 1s 943ms/step - loss: 1586.7546 - root_mean_squared_error: 39.8341 - val_loss: 1778.8633 - val_root_mean_squared_error: 42.1766\n",
      "Epoch 10/100\n",
      "1/1 [==============================] - 1s 931ms/step - loss: 1537.2869 - root_mean_squared_error: 39.2082 - val_loss: 1710.4646 - val_root_mean_squared_error: 41.3578\n",
      "Epoch 11/100\n",
      "1/1 [==============================] - 1s 935ms/step - loss: 1470.5901 - root_mean_squared_error: 38.3483 - val_loss: 1627.2218 - val_root_mean_squared_error: 40.3388\n",
      "Epoch 12/100\n",
      "1/1 [==============================] - 1s 923ms/step - loss: 1393.7896 - root_mean_squared_error: 37.3335 - val_loss: 1528.2079 - val_root_mean_squared_error: 39.0923\n",
      "Epoch 13/100\n",
      "1/1 [==============================] - 1s 920ms/step - loss: 1301.0304 - root_mean_squared_error: 36.0698 - val_loss: 1412.9049 - val_root_mean_squared_error: 37.5886\n",
      "Epoch 14/100\n",
      "1/1 [==============================] - 1s 941ms/step - loss: 1197.7291 - root_mean_squared_error: 34.6082 - val_loss: 1280.5435 - val_root_mean_squared_error: 35.7847\n",
      "Epoch 15/100\n",
      "1/1 [==============================] - 1s 926ms/step - loss: 1071.9130 - root_mean_squared_error: 32.7401 - val_loss: 1133.4240 - val_root_mean_squared_error: 33.6664\n",
      "Epoch 16/100\n",
      "1/1 [==============================] - 1s 983ms/step - loss: 944.1404 - root_mean_squared_error: 30.7269 - val_loss: 974.8124 - val_root_mean_squared_error: 31.2220\n",
      "Epoch 17/100\n",
      "1/1 [==============================] - 1s 933ms/step - loss: 791.1913 - root_mean_squared_error: 28.1281 - val_loss: 810.9637 - val_root_mean_squared_error: 28.4774\n",
      "Epoch 18/100\n",
      "1/1 [==============================] - 1s 915ms/step - loss: 642.3353 - root_mean_squared_error: 25.3443 - val_loss: 650.8750 - val_root_mean_squared_error: 25.5123\n",
      "Epoch 19/100\n",
      "1/1 [==============================] - 1s 906ms/step - loss: 519.6580 - root_mean_squared_error: 22.7960 - val_loss: 510.8419 - val_root_mean_squared_error: 22.6018\n",
      "Epoch 20/100\n",
      "1/1 [==============================] - 1s 909ms/step - loss: 408.5092 - root_mean_squared_error: 20.2116 - val_loss: 413.4982 - val_root_mean_squared_error: 20.3347\n",
      "Epoch 21/100\n",
      "1/1 [==============================] - 2s 2s/step - loss: 331.9209 - root_mean_squared_error: 18.2187 - val_loss: 384.6845 - val_root_mean_squared_error: 19.6134\n",
      "Epoch 22/100\n",
      "1/1 [==============================] - 1s 900ms/step - loss: 324.1402 - root_mean_squared_error: 18.0039 - val_loss: 428.7747 - val_root_mean_squared_error: 20.7069\n",
      "Epoch 23/100\n",
      "1/1 [==============================] - 1s 900ms/step - loss: 402.7230 - root_mean_squared_error: 20.0680 - val_loss: 492.8612 - val_root_mean_squared_error: 22.2005\n",
      "Epoch 24/100\n",
      "1/1 [==============================] - 1s 909ms/step - loss: 513.0997 - root_mean_squared_error: 22.6517 - val_loss: 516.7250 - val_root_mean_squared_error: 22.7316\n",
      "Epoch 25/100\n",
      "1/1 [==============================] - 1s 943ms/step - loss: 526.8569 - root_mean_squared_error: 22.9534 - val_loss: 492.9962 - val_root_mean_squared_error: 22.2035\n",
      "Epoch 26/100\n",
      "1/1 [==============================] - 1s 996ms/step - loss: 504.3170 - root_mean_squared_error: 22.4570 - val_loss: 446.7584 - val_root_mean_squared_error: 21.1367\n",
      "Epoch 27/100\n",
      "1/1 [==============================] - 1s 925ms/step - loss: 449.3799 - root_mean_squared_error: 21.1986 - val_loss: 406.1057 - val_root_mean_squared_error: 20.1521\n",
      "Epoch 28/100\n",
      "1/1 [==============================] - 1s 935ms/step - loss: 407.5205 - root_mean_squared_error: 20.1871 - val_loss: 385.4211 - val_root_mean_squared_error: 19.6321\n",
      "Epoch 29/100\n",
      "1/1 [==============================] - 1s 931ms/step - loss: 335.3922 - root_mean_squared_error: 18.3137 - val_loss: 388.3138 - val_root_mean_squared_error: 19.7057\n",
      "Epoch 30/100\n",
      "1/1 [==============================] - 1s 924ms/step - loss: 308.3389 - root_mean_squared_error: 17.5596 - val_loss: 408.0212 - val_root_mean_squared_error: 20.1995\n",
      "Epoch 31/100\n",
      "1/1 [==============================] - 1s 932ms/step - loss: 336.0308 - root_mean_squared_error: 18.3311 - val_loss: 435.6451 - val_root_mean_squared_error: 20.8721\n",
      "Epoch 32/100\n",
      "1/1 [==============================] - 1s 921ms/step - loss: 336.7539 - root_mean_squared_error: 18.3509 - val_loss: 462.8566 - val_root_mean_squared_error: 21.5141\n",
      "Epoch 33/100\n",
      "1/1 [==============================] - 1s 923ms/step - loss: 356.4216 - root_mean_squared_error: 18.8791 - val_loss: 483.5289 - val_root_mean_squared_error: 21.9893\n",
      "Epoch 34/100\n",
      "1/1 [==============================] - 1s 913ms/step - loss: 376.4919 - root_mean_squared_error: 19.4034 - val_loss: 495.0739 - val_root_mean_squared_error: 22.2503\n",
      "Epoch 35/100\n",
      "1/1 [==============================] - 1s 911ms/step - loss: 396.7253 - root_mean_squared_error: 19.9180 - val_loss: 497.0352 - val_root_mean_squared_error: 22.2943\n",
      "Epoch 36/100\n",
      "1/1 [==============================] - 1s 913ms/step - loss: 382.8441 - root_mean_squared_error: 19.5664 - val_loss: 490.4508 - val_root_mean_squared_error: 22.1461\n",
      "Epoch 37/100\n",
      "1/1 [==============================] - 1s 942ms/step - loss: 383.8191 - root_mean_squared_error: 19.5913 - val_loss: 476.2594 - val_root_mean_squared_error: 21.8234\n",
      "Epoch 38/100\n",
      "1/1 [==============================] - 1s 970ms/step - loss: 361.3282 - root_mean_squared_error: 19.0086 - val_loss: 457.5307 - val_root_mean_squared_error: 21.3900\n",
      "Epoch 39/100\n",
      "1/1 [==============================] - 1s 905ms/step - loss: 380.0300 - root_mean_squared_error: 19.4944 - val_loss: 437.3729 - val_root_mean_squared_error: 20.9135\n",
      "Epoch 40/100\n",
      "1/1 [==============================] - 1s 912ms/step - loss: 338.0974 - root_mean_squared_error: 18.3874 - val_loss: 417.7840 - val_root_mean_squared_error: 20.4398\n",
      "Epoch 41/100\n",
      "1/1 [==============================] - 1s 916ms/step - loss: 337.0537 - root_mean_squared_error: 18.3590 - val_loss: 401.7802 - val_root_mean_squared_error: 20.0445\n",
      "Epoch 42/100\n",
      "1/1 [==============================] - 1s 928ms/step - loss: 324.2060 - root_mean_squared_error: 18.0057 - val_loss: 390.5692 - val_root_mean_squared_error: 19.7628\n",
      "Epoch 43/100\n",
      "1/1 [==============================] - 1s 948ms/step - loss: 323.0623 - root_mean_squared_error: 17.9739 - val_loss: 385.0879 - val_root_mean_squared_error: 19.6237\n",
      "Epoch 44/100\n",
      "1/1 [==============================] - 1s 928ms/step - loss: 330.0600 - root_mean_squared_error: 18.1676 - val_loss: 384.0057 - val_root_mean_squared_error: 19.5961\n",
      "Epoch 45/100\n",
      "1/1 [==============================] - 1s 931ms/step - loss: 323.3421 - root_mean_squared_error: 17.9817 - val_loss: 385.2225 - val_root_mean_squared_error: 19.6271\n",
      "Epoch 46/100\n",
      "1/1 [==============================] - 1s 907ms/step - loss: 349.4743 - root_mean_squared_error: 18.6942 - val_loss: 386.4969 - val_root_mean_squared_error: 19.6595\n",
      "Epoch 47/100\n",
      "1/1 [==============================] - 1s 923ms/step - loss: 324.3997 - root_mean_squared_error: 18.0111 - val_loss: 386.3297 - val_root_mean_squared_error: 19.6553\n",
      "Epoch 48/100\n",
      "1/1 [==============================] - 1s 932ms/step - loss: 334.5622 - root_mean_squared_error: 18.2910 - val_loss: 385.2646 - val_root_mean_squared_error: 19.6282\n",
      "Epoch 49/100\n",
      "1/1 [==============================] - 1s 966ms/step - loss: 343.5558 - root_mean_squared_error: 18.5353 - val_loss: 384.2111 - val_root_mean_squared_error: 19.6013\n",
      "Epoch 50/100\n",
      "1/1 [==============================] - 1s 915ms/step - loss: 337.2499 - root_mean_squared_error: 18.3644 - val_loss: 384.1722 - val_root_mean_squared_error: 19.6003\n",
      "Epoch 51/100\n",
      "1/1 [==============================] - 1s 906ms/step - loss: 341.2810 - root_mean_squared_error: 18.4738 - val_loss: 386.1949 - val_root_mean_squared_error: 19.6518\n",
      "Epoch 52/100\n",
      "1/1 [==============================] - 1s 922ms/step - loss: 323.4446 - root_mean_squared_error: 17.9846 - val_loss: 390.2499 - val_root_mean_squared_error: 19.7547\n",
      "Epoch 53/100\n",
      "1/1 [==============================] - 1s 1s/step - loss: 313.9306 - root_mean_squared_error: 17.7181 - val_loss: 395.4786 - val_root_mean_squared_error: 19.8866\n",
      "Epoch 54/100\n",
      "1/1 [==============================] - 1s 1s/step - loss: 313.0927 - root_mean_squared_error: 17.6944 - val_loss: 400.8091 - val_root_mean_squared_error: 20.0202\n",
      "Epoch 55/100\n",
      "1/1 [==============================] - 1s 903ms/step - loss: 335.4762 - root_mean_squared_error: 18.3160 - val_loss: 405.3030 - val_root_mean_squared_error: 20.1321\n",
      "Epoch 56/100\n",
      "1/1 [==============================] - 1s 929ms/step - loss: 320.1505 - root_mean_squared_error: 17.8928 - val_loss: 408.1645 - val_root_mean_squared_error: 20.2031\n",
      "Epoch 57/100\n",
      "1/1 [==============================] - 1s 917ms/step - loss: 326.6857 - root_mean_squared_error: 18.0744 - val_loss: 408.6519 - val_root_mean_squared_error: 20.2151\n",
      "Epoch 58/100\n",
      "1/1 [==============================] - 1s 926ms/step - loss: 313.5952 - root_mean_squared_error: 17.7086 - val_loss: 407.2986 - val_root_mean_squared_error: 20.1816\n",
      "Epoch 59/100\n",
      "1/1 [==============================] - 1s 917ms/step - loss: 322.3331 - root_mean_squared_error: 17.9536 - val_loss: 404.3738 - val_root_mean_squared_error: 20.1090\n",
      "Epoch 60/100\n",
      "1/1 [==============================] - 1s 925ms/step - loss: 334.4740 - root_mean_squared_error: 18.2886 - val_loss: 400.7236 - val_root_mean_squared_error: 20.0181\n",
      "Epoch 61/100\n",
      "1/1 [==============================] - 1s 976ms/step - loss: 326.7767 - root_mean_squared_error: 18.0770 - val_loss: 397.1816 - val_root_mean_squared_error: 19.9294\n",
      "Epoch 62/100\n",
      "1/1 [==============================] - 1s 933ms/step - loss: 312.0886 - root_mean_squared_error: 17.6660 - val_loss: 393.8232 - val_root_mean_squared_error: 19.8450\n",
      "Epoch 63/100\n",
      "1/1 [==============================] - 1s 940ms/step - loss: 321.9835 - root_mean_squared_error: 17.9439 - val_loss: 391.1168 - val_root_mean_squared_error: 19.7767\n",
      "Epoch 64/100\n",
      "1/1 [==============================] - 1s 945ms/step - loss: 320.4548 - root_mean_squared_error: 17.9013 - val_loss: 389.1579 - val_root_mean_squared_error: 19.7271\n",
      "Epoch 65/100\n",
      "1/1 [==============================] - 1s 945ms/step - loss: 327.4010 - root_mean_squared_error: 18.0942 - val_loss: 387.6527 - val_root_mean_squared_error: 19.6889\n",
      "Epoch 66/100\n",
      "1/1 [==============================] - 1s 939ms/step - loss: 332.3969 - root_mean_squared_error: 18.2318 - val_loss: 386.7156 - val_root_mean_squared_error: 19.6651\n",
      "Epoch 67/100\n",
      "1/1 [==============================] - 1s 922ms/step - loss: 310.6408 - root_mean_squared_error: 17.6250 - val_loss: 386.1082 - val_root_mean_squared_error: 19.6496\n",
      "Epoch 68/100\n",
      "1/1 [==============================] - 1s 911ms/step - loss: 319.9447 - root_mean_squared_error: 17.8870 - val_loss: 385.9752 - val_root_mean_squared_error: 19.6462\n",
      "Epoch 69/100\n",
      "1/1 [==============================] - 1s 933ms/step - loss: 317.7797 - root_mean_squared_error: 17.8264 - val_loss: 386.1695 - val_root_mean_squared_error: 19.6512\n",
      "Epoch 70/100\n",
      "1/1 [==============================] - 1s 920ms/step - loss: 328.3555 - root_mean_squared_error: 18.1206 - val_loss: 386.7233 - val_root_mean_squared_error: 19.6653\n",
      "Epoch 71/100\n",
      "1/1 [==============================] - 1s 933ms/step - loss: 329.3664 - root_mean_squared_error: 18.1485 - val_loss: 387.7259 - val_root_mean_squared_error: 19.6908\n",
      "Epoch 72/100\n",
      "1/1 [==============================] - 1s 972ms/step - loss: 329.8628 - root_mean_squared_error: 18.1621 - val_loss: 389.0294 - val_root_mean_squared_error: 19.7238\n",
      "Epoch 73/100\n",
      "1/1 [==============================] - 1s 923ms/step - loss: 323.1326 - root_mean_squared_error: 17.9759 - val_loss: 390.9114 - val_root_mean_squared_error: 19.7715\n",
      "Epoch 74/100\n",
      "1/1 [==============================] - 1s 905ms/step - loss: 338.2943 - root_mean_squared_error: 18.3928 - val_loss: 393.0909 - val_root_mean_squared_error: 19.8265\n",
      "Epoch 75/100\n",
      "1/1 [==============================] - 1s 901ms/step - loss: 335.5170 - root_mean_squared_error: 18.3171 - val_loss: 394.9144 - val_root_mean_squared_error: 19.8725\n",
      "Epoch 76/100\n",
      "1/1 [==============================] - 1s 926ms/step - loss: 323.5301 - root_mean_squared_error: 17.9869 - val_loss: 396.6031 - val_root_mean_squared_error: 19.9149\n",
      "Epoch 77/100\n",
      "1/1 [==============================] - 1s 923ms/step - loss: 323.4832 - root_mean_squared_error: 17.9856 - val_loss: 397.5831 - val_root_mean_squared_error: 19.9395\n",
      "Epoch 78/100\n",
      "1/1 [==============================] - 1s 929ms/step - loss: 331.3280 - root_mean_squared_error: 18.2024 - val_loss: 397.7056 - val_root_mean_squared_error: 19.9426\n",
      "Epoch 79/100\n",
      "1/1 [==============================] - 1s 933ms/step - loss: 335.1536 - root_mean_squared_error: 18.3072 - val_loss: 397.3147 - val_root_mean_squared_error: 19.9328\n",
      "Epoch 80/100\n",
      "1/1 [==============================] - 1s 927ms/step - loss: 329.4705 - root_mean_squared_error: 18.1513 - val_loss: 396.4431 - val_root_mean_squared_error: 19.9109\n",
      "Epoch 81/100\n",
      "1/1 [==============================] - 1s 940ms/step - loss: 335.7344 - root_mean_squared_error: 18.3231 - val_loss: 395.3983 - val_root_mean_squared_error: 19.8846\n",
      "Epoch 82/100\n",
      "1/1 [==============================] - 1s 929ms/step - loss: 325.3669 - root_mean_squared_error: 18.0379 - val_loss: 394.2380 - val_root_mean_squared_error: 19.8554\n",
      "Epoch 83/100\n",
      "1/1 [==============================] - 1s 925ms/step - loss: 334.6447 - root_mean_squared_error: 18.2933 - val_loss: 392.9698 - val_root_mean_squared_error: 19.8235\n",
      "Epoch 84/100\n",
      "1/1 [==============================] - 1s 968ms/step - loss: 322.5514 - root_mean_squared_error: 17.9597 - val_loss: 391.6277 - val_root_mean_squared_error: 19.7896\n",
      "Epoch 85/100\n",
      "1/1 [==============================] - 1s 923ms/step - loss: 321.4925 - root_mean_squared_error: 17.9302 - val_loss: 390.6121 - val_root_mean_squared_error: 19.7639\n",
      "Epoch 86/100\n",
      "1/1 [==============================] - 2s 2s/step - loss: 334.4174 - root_mean_squared_error: 18.2871 - val_loss: 390.2826 - val_root_mean_squared_error: 19.7556\n",
      "Epoch 87/100\n",
      "1/1 [==============================] - 1s 972ms/step - loss: 336.6618 - root_mean_squared_error: 18.3483 - val_loss: 390.1006 - val_root_mean_squared_error: 19.7510\n",
      "Epoch 88/100\n",
      "1/1 [==============================] - 1s 947ms/step - loss: 310.0564 - root_mean_squared_error: 17.6084 - val_loss: 389.9761 - val_root_mean_squared_error: 19.7478\n",
      "Epoch 89/100\n",
      "1/1 [==============================] - 1s 937ms/step - loss: 308.0178 - root_mean_squared_error: 17.5504 - val_loss: 389.9089 - val_root_mean_squared_error: 19.7461\n",
      "Epoch 90/100\n",
      "1/1 [==============================] - 1s 937ms/step - loss: 327.7645 - root_mean_squared_error: 18.1043 - val_loss: 389.9834 - val_root_mean_squared_error: 19.7480\n",
      "Epoch 91/100\n",
      "1/1 [==============================] - 1s 938ms/step - loss: 320.6873 - root_mean_squared_error: 17.9077 - val_loss: 389.8657 - val_root_mean_squared_error: 19.7450\n",
      "Epoch 92/100\n",
      "1/1 [==============================] - 1s 945ms/step - loss: 335.7883 - root_mean_squared_error: 18.3245 - val_loss: 390.1302 - val_root_mean_squared_error: 19.7517\n",
      "Epoch 93/100\n",
      "1/1 [==============================] - 1s 916ms/step - loss: 317.9623 - root_mean_squared_error: 17.8315 - val_loss: 390.3231 - val_root_mean_squared_error: 19.7566\n",
      "Epoch 94/100\n",
      "1/1 [==============================] - 1s 942ms/step - loss: 312.7962 - root_mean_squared_error: 17.6860 - val_loss: 390.7449 - val_root_mean_squared_error: 19.7673\n",
      "Epoch 95/100\n",
      "1/1 [==============================] - 1s 975ms/step - loss: 321.4081 - root_mean_squared_error: 17.9279 - val_loss: 391.1795 - val_root_mean_squared_error: 19.7783\n",
      "Epoch 96/100\n",
      "1/1 [==============================] - 1s 933ms/step - loss: 305.0843 - root_mean_squared_error: 17.4667 - val_loss: 391.4005 - val_root_mean_squared_error: 19.7838\n",
      "Epoch 97/100\n",
      "1/1 [==============================] - 1s 932ms/step - loss: 316.5633 - root_mean_squared_error: 17.7922 - val_loss: 391.5637 - val_root_mean_squared_error: 19.7880\n",
      "Epoch 98/100\n",
      "1/1 [==============================] - 1s 898ms/step - loss: 329.1679 - root_mean_squared_error: 18.1430 - val_loss: 391.7781 - val_root_mean_squared_error: 19.7934\n",
      "Epoch 99/100\n",
      "1/1 [==============================] - 1s 938ms/step - loss: 325.5189 - root_mean_squared_error: 18.0421 - val_loss: 391.9088 - val_root_mean_squared_error: 19.7967\n",
      "Epoch 100/100\n",
      "1/1 [==============================] - 1s 923ms/step - loss: 308.8062 - root_mean_squared_error: 17.5729 - val_loss: 391.5919 - val_root_mean_squared_error: 19.7887\n",
      "1/1 [==============================] - 0s 107ms/step - loss: 524.2135 - root_mean_squared_error: 22.8957\n",
      "Loss: 524.21\n",
      "RMSE: 22.90\n"
     ]
    }
   ],
   "source": [
    "def run_experiment(model):\n",
    "    optimizer = tfa.optimizers.AdamW(\n",
    "        learning_rate=learning_rate, weight_decay=weight_decay\n",
    "    )\n",
    "\n",
    "    model.compile(\n",
    "        optimizer=optimizer,\n",
    "        loss=keras.losses.MeanSquaredError(),\n",
    "        metrics=[\n",
    "        keras.metrics.RootMeanSquaredError(name=\"root_mean_squared_error\", dtype=None),],\n",
    "    )\n",
    "\n",
    "    checkpoint_filepath = \"/tmp/checkpoint\"\n",
    "    checkpoint_callback = keras.callbacks.ModelCheckpoint(\n",
    "        checkpoint_filepath,\n",
    "        monitor=\"val_root_mean_squared_error\",\n",
    "        save_best_only=True,\n",
    "        save_weights_only=True,\n",
    "    )\n",
    "\n",
    "    history = model.fit(\n",
    "        x=x_train,\n",
    "        y=y_train,\n",
    "        batch_size=batch_size,\n",
    "        epochs=num_epochs,\n",
    "        validation_split=0.1,\n",
    "        callbacks=[checkpoint_callback],\n",
    "    )\n",
    "\n",
    "    model.load_weights(checkpoint_filepath)\n",
    "    loss, rmse = model.evaluate(x_test, y_test)\n",
    "    print(f\"Loss: {loss:0.2f}\")\n",
    "    print(f\"RMSE: {rmse:0.2f}\")\n",
    "\n",
    "    return history\n",
    "\n",
    "\n",
    "vit_classifier = create_vit_classifier()\n",
    "history = run_experiment(vit_classifier)\n"
   ]
  },
  {
   "cell_type": "code",
   "execution_count": 45,
   "metadata": {
    "execution": {
     "iopub.execute_input": "2022-12-01T01:39:45.001106Z",
     "iopub.status.busy": "2022-12-01T01:39:45.000781Z",
     "iopub.status.idle": "2022-12-01T01:39:45.011945Z",
     "shell.execute_reply": "2022-12-01T01:39:45.010982Z",
     "shell.execute_reply.started": "2022-12-01T01:39:45.001077Z"
    }
   },
   "outputs": [
    {
     "data": {
      "text/plain": [
       "<KerasTensor: shape=(None, 144, 1) dtype=float32 (created by layer 'multi_head_attention_16')>"
      ]
     },
     "execution_count": 45,
     "metadata": {},
     "output_type": "execute_result"
    }
   ],
   "source": [
    "vit_classifier.layers[5].output"
   ]
  },
  {
   "cell_type": "code",
   "execution_count": null,
   "metadata": {
    "execution": {
     "iopub.execute_input": "2022-12-01T01:39:45.015170Z",
     "iopub.status.busy": "2022-12-01T01:39:45.014247Z",
     "iopub.status.idle": "2022-12-01T01:39:45.052260Z",
     "shell.execute_reply": "2022-12-01T01:39:45.050442Z",
     "shell.execute_reply.started": "2022-12-01T01:39:45.015106Z"
    }
   },
   "outputs": [],
   "source": [
    "from keras.models import Model\n",
    "\n",
    "model = vit_classifier  # include here your original model\n",
    "\n",
    "layer_name = 'multi_head_attention_13'\n",
    "intermediate_layer_model = Model(inputs=model.input,\n",
    "                                 outputs=model.get_layer(layer_name).output)\n",
    "intermediate_output = intermediate_layer_model.predict(x_test)\n",
    "intermediate_output[1].shape"
   ]
  },
  {
   "cell_type": "code",
   "execution_count": null,
   "metadata": {
    "execution": {
     "iopub.status.busy": "2022-12-01T01:39:45.053827Z",
     "iopub.status.idle": "2022-12-01T01:39:45.055269Z",
     "shell.execute_reply": "2022-12-01T01:39:45.055008Z",
     "shell.execute_reply.started": "2022-12-01T01:39:45.054982Z"
    }
   },
   "outputs": [],
   "source": [
    "import math\n",
    "test_viz_weights = intermediate_output[1][0]\n",
    "test_viz_weights = test_viz_weights[tf.newaxis, ...]\n",
    "print(test_viz_weights.shape)\n",
    "# Reshape the vizualization weights.\n",
    "num_patches = tf.shape(test_viz_weights)[-1]\n",
    "print(num_patches)\n",
    "height = width = int(math.sqrt(num_patches))\n",
    "test_viz_weights = layers.Reshape((num_heads, height, width))(test_viz_weights)\n",
    "print(test_viz_weights.shape)\n",
    "selected_image = x_test[0]\n",
    "#print(test_augmented_images[0])\n",
    "selected_weight = test_viz_weights[0][7]\n",
    "print(selected_weight.shape)\n",
    "# Plot the images.\n",
    "fig, ax = plt.subplots(nrows=1, ncols=2, figsize=(10, 5))\n",
    "ax[0].imshow(selected_image)\n",
    "ax[0].set_title(f\"Original\")\n",
    "ax[0].axis(\"off\")\n",
    "img = ax[1].imshow(selected_image)\n",
    "ax[1].imshow(selected_weight, cmap=\"inferno\", alpha=0.6, extent=img.get_extent())\n",
    "ax[1].set_title(f\"Attended\")\n",
    "ax[1].axis(\"off\")\n",
    "plt.axis(\"off\")\n",
    "plt.show()\n",
    "plt.close()"
   ]
  },
  {
   "cell_type": "code",
   "execution_count": null,
   "metadata": {
    "execution": {
     "iopub.status.busy": "2022-12-01T01:39:45.057224Z",
     "iopub.status.idle": "2022-12-01T01:39:45.057945Z",
     "shell.execute_reply": "2022-12-01T01:39:45.057743Z",
     "shell.execute_reply.started": "2022-12-01T01:39:45.057720Z"
    }
   },
   "outputs": [],
   "source": [
    "plot_var = intermediate_output[1][0]"
   ]
  },
  {
   "cell_type": "code",
   "execution_count": null,
   "metadata": {
    "execution": {
     "iopub.status.busy": "2022-12-01T01:39:45.058948Z",
     "iopub.status.idle": "2022-12-01T01:39:45.059943Z",
     "shell.execute_reply": "2022-12-01T01:39:45.059733Z",
     "shell.execute_reply.started": "2022-12-01T01:39:45.059711Z"
    }
   },
   "outputs": [],
   "source": [
    "plot_var[0, :, :]"
   ]
  },
  {
   "cell_type": "code",
   "execution_count": null,
   "metadata": {
    "execution": {
     "iopub.status.busy": "2022-12-01T01:39:45.060903Z",
     "iopub.status.idle": "2022-12-01T01:39:45.061347Z",
     "shell.execute_reply": "2022-12-01T01:39:45.061124Z",
     "shell.execute_reply.started": "2022-12-01T01:39:45.061086Z"
    }
   },
   "outputs": [],
   "source": [
    "fig, ax = plt.subplots(nrows=1, ncols=2, figsize=(10, 5))\n",
    "ax[0].imshow(plot_var[0, :, :])\n",
    "ax[0].set_title(f\"Original\")\n",
    "ax[0].axis(\"off\")\n",
    "img = ax[1].imshow(x_test[0])\n",
    "ax[1].imshow(plot_var[0, :, :], cmap=\"inferno\", alpha=0.6, extent=img.get_extent())\n",
    "ax[1].set_title(f\"Attended\")\n",
    "ax[1].axis(\"off\")\n",
    "plt.axis(\"off\")\n",
    "plt.show()\n",
    "plt.close()"
   ]
  },
  {
   "cell_type": "code",
   "execution_count": null,
   "metadata": {
    "execution": {
     "iopub.status.busy": "2022-12-01T01:39:45.062643Z",
     "iopub.status.idle": "2022-12-01T01:39:45.063017Z",
     "shell.execute_reply": "2022-12-01T01:39:45.062845Z",
     "shell.execute_reply.started": "2022-12-01T01:39:45.062827Z"
    }
   },
   "outputs": [],
   "source": [
    "import cv2\n",
    "\n",
    "cv2.imshow(\"a\", plot_var[0, :, :])"
   ]
  }
 ],
 "metadata": {
  "kernelspec": {
   "display_name": "Python 3 (ipykernel)",
   "language": "python",
   "name": "python3"
  },
  "language_info": {
   "codemirror_mode": {
    "name": "ipython",
    "version": 3
   },
   "file_extension": ".py",
   "mimetype": "text/x-python",
   "name": "python",
   "nbconvert_exporter": "python",
   "pygments_lexer": "ipython3",
   "version": "3.9.13"
  }
 },
 "nbformat": 4,
 "nbformat_minor": 4
}
